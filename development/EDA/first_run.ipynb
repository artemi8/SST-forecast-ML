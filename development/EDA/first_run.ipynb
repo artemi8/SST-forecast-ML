{
 "cells": [
  {
   "cell_type": "code",
   "execution_count": 2,
   "id": "cc3ad1dc-c260-47ca-89d6-7fd00b836982",
   "metadata": {},
   "outputs": [
    {
     "name": "stderr",
     "output_type": "stream",
     "text": [
      "C:\\Users\\sudar\\AppData\\Local\\pypoetry\\Cache\\virtualenvs\\big_data_project-GTrHChF4-py3.9\\lib\\site-packages\\tqdm\\auto.py:21: TqdmWarning: IProgress not found. Please update jupyter and ipywidgets. See https://ipywidgets.readthedocs.io/en/stable/user_install.html\n",
      "  from .autonotebook import tqdm as notebook_tqdm\n"
     ]
    }
   ],
   "source": [
    "import pathlib\n",
    "import xarray as xr\n",
    "import os\n",
    "import netCDF4 as nc\n",
    "import pandas as pd\n",
    "import sweetviz as sv\n"
   ]
  },
  {
   "cell_type": "code",
   "execution_count": 3,
   "id": "672dfe69-53aa-46a3-81b7-77e65f7385ce",
   "metadata": {},
   "outputs": [],
   "source": [
    "data_dir_path = pathlib.Path(r'C:\\Users\\sudar\\Documents\\Personal Files\\Msc. MLiS\\Spring Modules\\Big Data Learning and Technologies\\Projects\\data')\n",
    "file_path = data_dir_path.joinpath('cds_preethi/try2.nc')"
   ]
  },
  {
   "cell_type": "code",
   "execution_count": 4,
   "id": "2611dc71-40a2-4b5f-86b9-6a3c5f791757",
   "metadata": {},
   "outputs": [
    {
     "name": "stdout",
     "output_type": "stream",
     "text": [
      "<xarray.Dataset> Size: 101MB\n",
      "Dimensions:     (longitude: 721, latitude: 81, time: 4)\n",
      "Coordinates:\n",
      "  * longitude   (longitude) float32 3kB -90.0 -89.75 -89.5 ... 89.5 89.75 90.0\n",
      "  * latitude    (latitude) float32 324B 10.0 9.75 9.5 9.25 ... -9.5 -9.75 -10.0\n",
      "  * time        (time) datetime64[ns] 32B 2022-01-01 2022-02-01 ... 2022-04-01\n",
      "Data variables: (12/54)\n",
      "    u10         (time, latitude, longitude) float64 2MB ...\n",
      "    v10         (time, latitude, longitude) float64 2MB ...\n",
      "    d2m         (time, latitude, longitude) float64 2MB ...\n",
      "    t2m         (time, latitude, longitude) float64 2MB ...\n",
      "    cdir        (time, latitude, longitude) float64 2MB ...\n",
      "    cp          (time, latitude, longitude) float64 2MB ...\n",
      "    ...          ...\n",
      "    tsrc        (time, latitude, longitude) float64 2MB ...\n",
      "    tcc         (time, latitude, longitude) float64 2MB ...\n",
      "    tp          (time, latitude, longitude) float64 2MB ...\n",
      "    fdir        (time, latitude, longitude) float64 2MB ...\n",
      "    tvh         (time, latitude, longitude) float64 2MB ...\n",
      "    tvl         (time, latitude, longitude) float64 2MB ...\n",
      "Attributes:\n",
      "    Conventions:  CF-1.6\n",
      "    history:      2024-04-23 20:07:21 GMT by grib_to_netcdf-2.28.1: /opt/ecmw...\n"
     ]
    },
    {
     "name": "stderr",
     "output_type": "stream",
     "text": [
      "C:\\Users\\sudar\\AppData\\Local\\pypoetry\\Cache\\virtualenvs\\big_data_project-GTrHChF4-py3.9\\lib\\site-packages\\xarray\\backends\\plugins.py:80: RuntimeWarning: Engine 'cfgrib' loading failed:\n",
      "Cannot find the ecCodes library\n",
      "  warnings.warn(f\"Engine {name!r} loading failed:\\n{ex}\", RuntimeWarning)\n"
     ]
    }
   ],
   "source": [
    "\n",
    "# Open the NetCDF file using xarray\n",
    "ds = xr.open_dataset(file_path)\n",
    "\n",
    "# Explore the dataset\n",
    "print(ds)  # Summary of the dataset, including dimensions, coordinates, and data variables\n"
   ]
  },
  {
   "cell_type": "code",
   "execution_count": 5,
   "id": "972aaf33-49e4-4f9d-8f04-125a4e6e2431",
   "metadata": {},
   "outputs": [
    {
     "data": {
      "text/html": [
       "<div>\n",
       "<style scoped>\n",
       "    .dataframe tbody tr th:only-of-type {\n",
       "        vertical-align: middle;\n",
       "    }\n",
       "\n",
       "    .dataframe tbody tr th {\n",
       "        vertical-align: top;\n",
       "    }\n",
       "\n",
       "    .dataframe thead th {\n",
       "        text-align: right;\n",
       "    }\n",
       "</style>\n",
       "<table border=\"1\" class=\"dataframe\">\n",
       "  <thead>\n",
       "    <tr style=\"text-align: right;\">\n",
       "      <th></th>\n",
       "      <th>longitude</th>\n",
       "      <th>latitude</th>\n",
       "      <th>time</th>\n",
       "      <th>u10</th>\n",
       "      <th>v10</th>\n",
       "      <th>d2m</th>\n",
       "      <th>t2m</th>\n",
       "      <th>cdir</th>\n",
       "      <th>cp</th>\n",
       "      <th>e</th>\n",
       "      <th>...</th>\n",
       "      <th>sro</th>\n",
       "      <th>ssrdc</th>\n",
       "      <th>ssrd</th>\n",
       "      <th>tsr</th>\n",
       "      <th>tsrc</th>\n",
       "      <th>tcc</th>\n",
       "      <th>tp</th>\n",
       "      <th>fdir</th>\n",
       "      <th>tvh</th>\n",
       "      <th>tvl</th>\n",
       "    </tr>\n",
       "  </thead>\n",
       "  <tbody>\n",
       "    <tr>\n",
       "      <th>0</th>\n",
       "      <td>-90.0</td>\n",
       "      <td>10.00</td>\n",
       "      <td>2022-01-01</td>\n",
       "      <td>-4.811078</td>\n",
       "      <td>-2.309218</td>\n",
       "      <td>295.618130</td>\n",
       "      <td>298.200047</td>\n",
       "      <td>1.796860e+07</td>\n",
       "      <td>0.000048</td>\n",
       "      <td>-0.001661</td>\n",
       "      <td>...</td>\n",
       "      <td>0.0</td>\n",
       "      <td>2.189932e+07</td>\n",
       "      <td>2.148651e+07</td>\n",
       "      <td>2.810677e+07</td>\n",
       "      <td>2.846823e+07</td>\n",
       "      <td>0.152473</td>\n",
       "      <td>0.000071</td>\n",
       "      <td>1.730454e+07</td>\n",
       "      <td>0.0</td>\n",
       "      <td>0.0</td>\n",
       "    </tr>\n",
       "    <tr>\n",
       "      <th>1</th>\n",
       "      <td>-90.0</td>\n",
       "      <td>10.00</td>\n",
       "      <td>2022-02-01</td>\n",
       "      <td>-5.573031</td>\n",
       "      <td>-2.459584</td>\n",
       "      <td>295.265762</td>\n",
       "      <td>298.260153</td>\n",
       "      <td>1.946421e+07</td>\n",
       "      <td>0.000055</td>\n",
       "      <td>-0.002268</td>\n",
       "      <td>...</td>\n",
       "      <td>0.0</td>\n",
       "      <td>2.381218e+07</td>\n",
       "      <td>2.332204e+07</td>\n",
       "      <td>3.046916e+07</td>\n",
       "      <td>3.089712e+07</td>\n",
       "      <td>0.096191</td>\n",
       "      <td>0.000080</td>\n",
       "      <td>1.875398e+07</td>\n",
       "      <td>0.0</td>\n",
       "      <td>0.0</td>\n",
       "    </tr>\n",
       "    <tr>\n",
       "      <th>2</th>\n",
       "      <td>-90.0</td>\n",
       "      <td>10.00</td>\n",
       "      <td>2022-03-01</td>\n",
       "      <td>-4.249627</td>\n",
       "      <td>-2.111126</td>\n",
       "      <td>296.091641</td>\n",
       "      <td>298.783604</td>\n",
       "      <td>2.095452e+07</td>\n",
       "      <td>0.000027</td>\n",
       "      <td>-0.001904</td>\n",
       "      <td>...</td>\n",
       "      <td>0.0</td>\n",
       "      <td>2.549391e+07</td>\n",
       "      <td>2.478369e+07</td>\n",
       "      <td>3.254027e+07</td>\n",
       "      <td>3.315476e+07</td>\n",
       "      <td>0.319034</td>\n",
       "      <td>0.000047</td>\n",
       "      <td>1.969099e+07</td>\n",
       "      <td>0.0</td>\n",
       "      <td>0.0</td>\n",
       "    </tr>\n",
       "    <tr>\n",
       "      <th>3</th>\n",
       "      <td>-90.0</td>\n",
       "      <td>10.00</td>\n",
       "      <td>2022-04-01</td>\n",
       "      <td>-2.851004</td>\n",
       "      <td>-1.132216</td>\n",
       "      <td>296.852173</td>\n",
       "      <td>300.045375</td>\n",
       "      <td>2.117370e+07</td>\n",
       "      <td>0.000385</td>\n",
       "      <td>-0.002392</td>\n",
       "      <td>...</td>\n",
       "      <td>0.0</td>\n",
       "      <td>2.584941e+07</td>\n",
       "      <td>2.381656e+07</td>\n",
       "      <td>3.218431e+07</td>\n",
       "      <td>3.401411e+07</td>\n",
       "      <td>0.494954</td>\n",
       "      <td>0.000589</td>\n",
       "      <td>1.793285e+07</td>\n",
       "      <td>0.0</td>\n",
       "      <td>0.0</td>\n",
       "    </tr>\n",
       "    <tr>\n",
       "      <th>4</th>\n",
       "      <td>-90.0</td>\n",
       "      <td>9.75</td>\n",
       "      <td>2022-01-01</td>\n",
       "      <td>-4.769073</td>\n",
       "      <td>-2.457187</td>\n",
       "      <td>295.582943</td>\n",
       "      <td>298.065161</td>\n",
       "      <td>1.802652e+07</td>\n",
       "      <td>0.000037</td>\n",
       "      <td>-0.001588</td>\n",
       "      <td>...</td>\n",
       "      <td>0.0</td>\n",
       "      <td>2.197501e+07</td>\n",
       "      <td>2.150286e+07</td>\n",
       "      <td>2.815500e+07</td>\n",
       "      <td>2.857476e+07</td>\n",
       "      <td>0.154110</td>\n",
       "      <td>0.000053</td>\n",
       "      <td>1.725439e+07</td>\n",
       "      <td>0.0</td>\n",
       "      <td>0.0</td>\n",
       "    </tr>\n",
       "  </tbody>\n",
       "</table>\n",
       "<p>5 rows × 57 columns</p>\n",
       "</div>"
      ],
      "text/plain": [
       "   longitude  latitude       time       u10       v10         d2m         t2m  \\\n",
       "0      -90.0     10.00 2022-01-01 -4.811078 -2.309218  295.618130  298.200047   \n",
       "1      -90.0     10.00 2022-02-01 -5.573031 -2.459584  295.265762  298.260153   \n",
       "2      -90.0     10.00 2022-03-01 -4.249627 -2.111126  296.091641  298.783604   \n",
       "3      -90.0     10.00 2022-04-01 -2.851004 -1.132216  296.852173  300.045375   \n",
       "4      -90.0      9.75 2022-01-01 -4.769073 -2.457187  295.582943  298.065161   \n",
       "\n",
       "           cdir        cp         e  ...  sro         ssrdc          ssrd  \\\n",
       "0  1.796860e+07  0.000048 -0.001661  ...  0.0  2.189932e+07  2.148651e+07   \n",
       "1  1.946421e+07  0.000055 -0.002268  ...  0.0  2.381218e+07  2.332204e+07   \n",
       "2  2.095452e+07  0.000027 -0.001904  ...  0.0  2.549391e+07  2.478369e+07   \n",
       "3  2.117370e+07  0.000385 -0.002392  ...  0.0  2.584941e+07  2.381656e+07   \n",
       "4  1.802652e+07  0.000037 -0.001588  ...  0.0  2.197501e+07  2.150286e+07   \n",
       "\n",
       "            tsr          tsrc       tcc        tp          fdir  tvh  tvl  \n",
       "0  2.810677e+07  2.846823e+07  0.152473  0.000071  1.730454e+07  0.0  0.0  \n",
       "1  3.046916e+07  3.089712e+07  0.096191  0.000080  1.875398e+07  0.0  0.0  \n",
       "2  3.254027e+07  3.315476e+07  0.319034  0.000047  1.969099e+07  0.0  0.0  \n",
       "3  3.218431e+07  3.401411e+07  0.494954  0.000589  1.793285e+07  0.0  0.0  \n",
       "4  2.815500e+07  2.857476e+07  0.154110  0.000053  1.725439e+07  0.0  0.0  \n",
       "\n",
       "[5 rows x 57 columns]"
      ]
     },
     "execution_count": 5,
     "metadata": {},
     "output_type": "execute_result"
    }
   ],
   "source": [
    "df = ds.to_dataframe().reset_index()  # reset_index to convert xarray coordinates to DataFrame columns\n",
    "df.head()"
   ]
  },
  {
   "cell_type": "code",
   "execution_count": 21,
   "id": "49107ef4-d948-4bf3-b17a-50d5879e8671",
   "metadata": {},
   "outputs": [
    {
     "data": {
      "text/plain": [
       "Index(['longitude', 'latitude', 'time', 'u10', 'v10', 'd2m', 't2m', 'cdir',\n",
       "       'cp', 'e', 'hcc', 'cvh', 'lai_hv', 'lai_lv', 'lcc', 'cvl', 'msl',\n",
       "       'msdrswrf', 'msdrswrfcs', 'msdwlwrf', 'msdwlwrfcs', 'msdwswrf',\n",
       "       'msdwswrfcs', 'msdwuvrf', 'mslhf', 'msnlwrf', 'msnlwrfcs', 'msnswrf',\n",
       "       'msnswrfcs', 'msror', 'msshf', 'mtdwswrf', 'mtnlwrf', 'mtnlwrfcs',\n",
       "       'mtnswrf', 'mtnswrfcs', 'mwd', 'mwp', 'mcc', 'pp1d', 'siconc', 'sst',\n",
       "       'swh', 'ssro', 'ssr', 'ssrc', 'sp', 'sro', 'ssrdc', 'ssrd', 'tsr',\n",
       "       'tsrc', 'tcc', 'tp', 'fdir', 'tvh', 'tvl'],\n",
       "      dtype='object')"
      ]
     },
     "execution_count": 21,
     "metadata": {},
     "output_type": "execute_result"
    }
   ],
   "source": [
    "df.columns"
   ]
  },
  {
   "cell_type": "code",
   "execution_count": 14,
   "id": "26aabc1d-d24d-4f64-a93a-7ab3a1fc144d",
   "metadata": {},
   "outputs": [
    {
     "data": {
      "text/plain": [
       "0        2022-01-01\n",
       "1        2022-02-01\n",
       "2        2022-03-01\n",
       "3        2022-04-01\n",
       "4        2022-01-01\n",
       "            ...    \n",
       "233599   2022-04-01\n",
       "233600   2022-01-01\n",
       "233601   2022-02-01\n",
       "233602   2022-03-01\n",
       "233603   2022-04-01\n",
       "Name: time, Length: 233604, dtype: datetime64[ns]"
      ]
     },
     "execution_count": 14,
     "metadata": {},
     "output_type": "execute_result"
    }
   ],
   "source": [
    "df['time']"
   ]
  },
  {
   "cell_type": "code",
   "execution_count": 18,
   "id": "dadd1b4d-9131-44dc-b442-5fa20315e122",
   "metadata": {},
   "outputs": [
    {
     "data": {
      "text/plain": [
       "175203"
      ]
     },
     "execution_count": 18,
     "metadata": {},
     "output_type": "execute_result"
    }
   ],
   "source": [
    "duplicates = df.duplicated(subset=[\"latitude\", \"longitude\"], keep=\"last\")\n",
    "duplicates.sum()"
   ]
  },
  {
   "cell_type": "code",
   "execution_count": 17,
   "id": "b94ef13e-ce1a-4632-8a71-b2ed690f0188",
   "metadata": {},
   "outputs": [
    {
     "data": {
      "text/plain": [
       "0         True\n",
       "1         True\n",
       "2         True\n",
       "3         True\n",
       "4         True\n",
       "          ... \n",
       "233599    True\n",
       "233600    True\n",
       "233601    True\n",
       "233602    True\n",
       "233603    True\n",
       "Length: 233604, dtype: bool"
      ]
     },
     "execution_count": 17,
     "metadata": {},
     "output_type": "execute_result"
    }
   ],
   "source": [
    "duplicates"
   ]
  },
  {
   "cell_type": "code",
   "execution_count": 6,
   "id": "c32ab930-0bee-4298-9fcd-37b8e6b0bf2e",
   "metadata": {
    "scrolled": true
   },
   "outputs": [
    {
     "name": "stderr",
     "output_type": "stream",
     "text": [
      "Done! Use 'show' commands to display/save.   |█████████████████████████████████████████| [100%]   00:15 -> (00:00 left)\n"
     ]
    },
    {
     "name": "stdout",
     "output_type": "stream",
     "text": [
      "Report eda_report.html was generated! NOTEBOOK/COLAB USERS: the web browser MAY not pop up, regardless, the report IS saved in your notebook/colab files.\n"
     ]
    }
   ],
   "source": [
    "# Generate the report\n",
    "report = sv.analyze(df)\n",
    "\n",
    "# Display the report\n",
    "report.show_html(\"eda_report.html\")  # Opens the report in your default web browser"
   ]
  },
  {
   "cell_type": "code",
   "execution_count": null,
   "id": "d75db125-92a6-4400-9797-4ee9c9ef95f9",
   "metadata": {},
   "outputs": [],
   "source": [
    "ds.close()"
   ]
  },
  {
   "cell_type": "code",
   "execution_count": 2,
   "id": "dfbba407-358f-411d-986e-da2342050917",
   "metadata": {},
   "outputs": [
    {
     "ename": "Exception",
     "evalue": "Missing/incomplete configuration file: C:\\Users\\sudar/.cdsapirc",
     "output_type": "error",
     "traceback": [
      "\u001b[1;31m---------------------------------------------------------------------------\u001b[0m",
      "\u001b[1;31mException\u001b[0m                                 Traceback (most recent call last)",
      "Cell \u001b[1;32mIn[2], line 3\u001b[0m\n\u001b[0;32m      1\u001b[0m \u001b[38;5;28;01mimport\u001b[39;00m \u001b[38;5;21;01mcdsapi\u001b[39;00m\n\u001b[1;32m----> 3\u001b[0m c \u001b[38;5;241m=\u001b[39m \u001b[43mcdsapi\u001b[49m\u001b[38;5;241;43m.\u001b[39;49m\u001b[43mClient\u001b[49m\u001b[43m(\u001b[49m\u001b[43m)\u001b[49m\n\u001b[0;32m      5\u001b[0m c\u001b[38;5;241m.\u001b[39mretrieve(\n\u001b[0;32m      6\u001b[0m     \u001b[38;5;124m'\u001b[39m\u001b[38;5;124mreanalysis-era5-single-levels-monthly-means\u001b[39m\u001b[38;5;124m'\u001b[39m,\n\u001b[0;32m      7\u001b[0m     {\n\u001b[1;32m   (...)\u001b[0m\n\u001b[0;32m     23\u001b[0m     },\n\u001b[0;32m     24\u001b[0m     \u001b[38;5;124m'\u001b[39m\u001b[38;5;124mdownload.nc\u001b[39m\u001b[38;5;124m'\u001b[39m)\n",
      "File \u001b[1;32m~\\AppData\\Local\\pypoetry\\Cache\\virtualenvs\\big_data_project-GTrHChF4-py3.9\\lib\\site-packages\\cdsapi\\api.py:304\u001b[0m, in \u001b[0;36mClient.__init__\u001b[1;34m(self, url, key, quiet, debug, verify, timeout, progress, full_stack, delete, retry_max, sleep_max, wait_until_complete, info_callback, warning_callback, error_callback, debug_callback, metadata, forget, session)\u001b[0m\n\u001b[0;32m    301\u001b[0m             verify \u001b[38;5;241m=\u001b[39m \u001b[38;5;28mbool\u001b[39m(\u001b[38;5;28mint\u001b[39m(config\u001b[38;5;241m.\u001b[39mget(\u001b[38;5;124m\"\u001b[39m\u001b[38;5;124mverify\u001b[39m\u001b[38;5;124m\"\u001b[39m, \u001b[38;5;241m1\u001b[39m)))\n\u001b[0;32m    303\u001b[0m \u001b[38;5;28;01mif\u001b[39;00m url \u001b[38;5;129;01mis\u001b[39;00m \u001b[38;5;28;01mNone\u001b[39;00m \u001b[38;5;129;01mor\u001b[39;00m key \u001b[38;5;129;01mis\u001b[39;00m \u001b[38;5;28;01mNone\u001b[39;00m \u001b[38;5;129;01mor\u001b[39;00m key \u001b[38;5;129;01mis\u001b[39;00m \u001b[38;5;28;01mNone\u001b[39;00m:\n\u001b[1;32m--> 304\u001b[0m     \u001b[38;5;28;01mraise\u001b[39;00m \u001b[38;5;167;01mException\u001b[39;00m(\u001b[38;5;124m\"\u001b[39m\u001b[38;5;124mMissing/incomplete configuration file: \u001b[39m\u001b[38;5;132;01m%s\u001b[39;00m\u001b[38;5;124m\"\u001b[39m \u001b[38;5;241m%\u001b[39m (dotrc))\n\u001b[0;32m    306\u001b[0m \u001b[38;5;66;03m# If verify is still None, then we set to default value of True\u001b[39;00m\n\u001b[0;32m    307\u001b[0m \u001b[38;5;28;01mif\u001b[39;00m verify \u001b[38;5;129;01mis\u001b[39;00m \u001b[38;5;28;01mNone\u001b[39;00m:\n",
      "\u001b[1;31mException\u001b[0m: Missing/incomplete configuration file: C:\\Users\\sudar/.cdsapirc"
     ]
    }
   ],
   "source": [
    "import cdsapi\n",
    "\n",
    "c = cdsapi.Client()\n",
    "\n",
    "c.retrieve(\n",
    "    'reanalysis-era5-single-levels-monthly-means',\n",
    "    {\n",
    "        'format': 'netcdf',\n",
    "        'product_type': 'monthly_averaged_reanalysis',\n",
    "        'variable': [\n",
    "            '10m_u_component_of_wind', '10m_v_component_of_wind', '2m_dewpoint_temperature',\n",
    "            '2m_temperature', 'mean_sea_level_pressure', 'mean_wave_direction',\n",
    "            'mean_wave_period', 'sea_surface_temperature', 'significant_height_of_combined_wind_waves_and_swell',\n",
    "            'surface_pressure', 'total_precipitation',\n",
    "        ],\n",
    "        'month': '01',\n",
    "        'time': '00:00',\n",
    "        'area': [\n",
    "            10, -90, -10,\n",
    "            90,\n",
    "        ],\n",
    "        'year': '2022',\n",
    "    },\n",
    "    'download.nc')"
   ]
  },
  {
   "cell_type": "code",
   "execution_count": null,
   "id": "2765ef17-febe-4220-955e-6710e2f264f0",
   "metadata": {},
   "outputs": [],
   "source": []
  }
 ],
 "metadata": {
  "kernelspec": {
   "display_name": "bdt-project",
   "language": "python",
   "name": "bdt-project"
  },
  "language_info": {
   "codemirror_mode": {
    "name": "ipython",
    "version": 3
   },
   "file_extension": ".py",
   "mimetype": "text/x-python",
   "name": "python",
   "nbconvert_exporter": "python",
   "pygments_lexer": "ipython3",
   "version": "3.9.10"
  }
 },
 "nbformat": 4,
 "nbformat_minor": 5
}
